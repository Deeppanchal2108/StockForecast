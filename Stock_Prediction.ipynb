{
 "cells": [
  {
   "cell_type": "code",
   "execution_count": 9,
   "id": "e7a360c2-a10d-4fde-b46d-fed001cf0c05",
   "metadata": {},
   "outputs": [],
   "source": [
    "import yfinance as yf\n",
    "import pandas as pd\n",
    "import numpy as np\n",
    "import matplotlib.pyplot as plt\n",
    "import seaborn as sns\n",
    "import tensorflow as tf\n",
    "from tensorflow import keras\n",
    "from tensorflow.keras.models import Sequential\n",
    "from tensorflow.keras.layers import LSTM, Dense, Dropout\n",
    "import joblib\n",
    "import os\n",
    "from sklearn.preprocessing import MinMaxScaler"
   ]
  },
  {
   "cell_type": "code",
   "execution_count": 11,
   "id": "3b1af634-6d3d-4d97-ae8a-3f9b48a70e79",
   "metadata": {},
   "outputs": [
    {
     "name": "stdout",
     "output_type": "stream",
     "text": [
      "Model for AAPL already exists. Skipping training...\n",
      "\n",
      "Model for GOOGL already exists. Skipping training...\n",
      "\n",
      "Model for MSFT already exists. Skipping training...\n",
      "\n",
      "Model for TSLA already exists. Skipping training...\n",
      "\n",
      "Model for AMZN already exists. Skipping training...\n",
      "\n",
      "Model for NFLX already exists. Skipping training...\n",
      "\n",
      "Model for META already exists. Skipping training...\n",
      "\n"
     ]
    }
   ],
   "source": [
    "\n",
    "# List of stock tickers to train models on\n",
    "tickers = [\"AAPL\", \"GOOGL\", \"MSFT\", \"TSLA\", \"AMZN\", \"NFLX\", \"META\"]\n",
    "\n",
    "# Folder to store models and scalers\n",
    "if not os.path.exists(\"models\"):\n",
    "    os.makedirs(\"models\")\n",
    "\n",
    "for ticker in tickers:\n",
    "    model_path = f\"models/{ticker}_lstm.h5\"\n",
    "    scaler_path = f\"models/{ticker}_scaler.pkl\"\n",
    "\n",
    "    if os.path.exists(model_path) and os.path.exists(scaler_path):\n",
    "        print(f\"Model for {ticker} already exists. Skipping training...\\n\")\n",
    "        continue  # Skip training if model already exists\n",
    "\n",
    "    print(f\"Training model for {ticker}...\")\n",
    "\n",
    "    # -------------------- Step 1: Download Data --------------------\n",
    "    start_date = \"2020-01-01\"\n",
    "    end_date = \"2024-12-31\"\n",
    "    df = yf.download(ticker, start=start_date, end=end_date)\n",
    "\n",
    "    # -------------------- Step 2: Preprocess Data --------------------\n",
    "    scaler = MinMaxScaler(feature_range=(0, 1))\n",
    "    df[\"Close_Scaled\"] = scaler.fit_transform(df[\"Close\"].values.reshape(-1, 1))\n",
    "\n",
    "    sequence_length = 60  # Use past 60 days to predict next day\n",
    "    X, y = [], []\n",
    "    for i in range(len(df) - sequence_length):\n",
    "        X.append(df[\"Close_Scaled\"].iloc[i : i + sequence_length].values)\n",
    "        y.append(df[\"Close_Scaled\"].iloc[i + sequence_length])\n",
    "\n",
    "    X, y = np.array(X), np.array(y)\n",
    "    X = np.reshape(X, (X.shape[0], X.shape[1], 1))  # Reshape for LSTM\n",
    "\n",
    "    # -------------------- Step 3: Build LSTM Model --------------------\n",
    "    model = Sequential([\n",
    "        LSTM(units=50, return_sequences=True, input_shape=(X.shape[1], 1)),\n",
    "        Dropout(0.2),\n",
    "        LSTM(units=50, return_sequences=False),\n",
    "        Dropout(0.2),\n",
    "        Dense(units=25),\n",
    "        Dense(units=1)  # Predicting 1 value (next day's price)\n",
    "    ])\n",
    "\n",
    "    model.compile(optimizer=\"adam\", loss=\"mean_squared_error\")\n",
    "\n",
    "    # -------------------- Step 4: Train Model --------------------\n",
    "    model.fit(X, y, batch_size=32, epochs=20, verbose=1)\n",
    "\n",
    "    # -------------------- Step 5: Save Model & Scaler --------------------\n",
    "    model.save(model_path)  # Save model\n",
    "    joblib.dump(scaler, scaler_path)  # Save scaler\n",
    "    print(f\"Model for {ticker} saved!\\n\")"
   ]
  },
  {
   "cell_type": "code",
   "execution_count": 18,
   "id": "342b035f-6e5a-41ff-bce6-d901d9d5d546",
   "metadata": {},
   "outputs": [
    {
     "name": "stderr",
     "output_type": "stream",
     "text": [
      "WARNING:absl:Compiled the loaded model, but the compiled metrics have yet to be built. `model.compile_metrics` will be empty until you train or evaluate the model.\n"
     ]
    },
    {
     "name": "stdout",
     "output_type": "stream",
     "text": [
      "📊 Testing model for AAPL...\n",
      "\n"
     ]
    },
    {
     "name": "stderr",
     "output_type": "stream",
     "text": [
      "[*********************100%***********************]  1 of 1 completed\n"
     ]
    },
    {
     "name": "stdout",
     "output_type": "stream",
     "text": [
      "📌 Actual Closing Price on 60th Day: $240.36\n",
      "\u001b[1m1/1\u001b[0m \u001b[32m━━━━━━━━━━━━━━━━━━━━\u001b[0m\u001b[37m\u001b[0m \u001b[1m0s\u001b[0m 271ms/step\n"
     ]
    },
    {
     "name": "stderr",
     "output_type": "stream",
     "text": [
      "WARNING:absl:Compiled the loaded model, but the compiled metrics have yet to be built. `model.compile_metrics` will be empty until you train or evaluate the model.\n"
     ]
    },
    {
     "name": "stdout",
     "output_type": "stream",
     "text": [
      "🔮 Predicted Price for 61st Day: $239.13\n",
      "\n",
      "📊 Testing model for GOOGL...\n",
      "\n"
     ]
    },
    {
     "name": "stderr",
     "output_type": "stream",
     "text": [
      "[*********************100%***********************]  1 of 1 completed\n"
     ]
    },
    {
     "name": "stdout",
     "output_type": "stream",
     "text": [
      "📌 Actual Closing Price on 60th Day: $172.73\n",
      "\u001b[1m1/1\u001b[0m \u001b[32m━━━━━━━━━━━━━━━━━━━━\u001b[0m\u001b[37m\u001b[0m \u001b[1m0s\u001b[0m 263ms/step\n"
     ]
    },
    {
     "name": "stderr",
     "output_type": "stream",
     "text": [
      "WARNING:absl:Compiled the loaded model, but the compiled metrics have yet to be built. `model.compile_metrics` will be empty until you train or evaluate the model.\n"
     ]
    },
    {
     "name": "stdout",
     "output_type": "stream",
     "text": [
      "🔮 Predicted Price for 61st Day: $179.95\n",
      "\n",
      "📊 Testing model for MSFT...\n",
      "\n"
     ]
    },
    {
     "name": "stderr",
     "output_type": "stream",
     "text": [
      "[*********************100%***********************]  1 of 1 completed\n"
     ]
    },
    {
     "name": "stdout",
     "output_type": "stream",
     "text": [
      "📌 Actual Closing Price on 60th Day: $397.71\n",
      "\u001b[1m1/1\u001b[0m \u001b[32m━━━━━━━━━━━━━━━━━━━━\u001b[0m\u001b[37m\u001b[0m \u001b[1m0s\u001b[0m 285ms/step\n"
     ]
    },
    {
     "name": "stderr",
     "output_type": "stream",
     "text": [
      "WARNING:absl:Compiled the loaded model, but the compiled metrics have yet to be built. `model.compile_metrics` will be empty until you train or evaluate the model.\n"
     ]
    },
    {
     "name": "stdout",
     "output_type": "stream",
     "text": [
      "🔮 Predicted Price for 61st Day: $409.57\n",
      "\n",
      "📊 Testing model for TSLA...\n",
      "\n"
     ]
    },
    {
     "name": "stderr",
     "output_type": "stream",
     "text": [
      "[*********************100%***********************]  1 of 1 completed\n"
     ]
    },
    {
     "name": "stdout",
     "output_type": "stream",
     "text": [
      "📌 Actual Closing Price on 60th Day: $290.80\n",
      "\u001b[1m1/1\u001b[0m \u001b[32m━━━━━━━━━━━━━━━━━━━━\u001b[0m\u001b[37m\u001b[0m \u001b[1m0s\u001b[0m 307ms/step\n"
     ]
    },
    {
     "name": "stderr",
     "output_type": "stream",
     "text": [
      "WARNING:absl:Compiled the loaded model, but the compiled metrics have yet to be built. `model.compile_metrics` will be empty until you train or evaluate the model.\n"
     ]
    },
    {
     "name": "stdout",
     "output_type": "stream",
     "text": [
      "🔮 Predicted Price for 61st Day: $327.41\n",
      "\n",
      "📊 Testing model for AMZN...\n",
      "\n"
     ]
    },
    {
     "name": "stderr",
     "output_type": "stream",
     "text": [
      "[*********************100%***********************]  1 of 1 completed\n"
     ]
    },
    {
     "name": "stdout",
     "output_type": "stream",
     "text": [
      "📌 Actual Closing Price on 60th Day: $213.16\n",
      "\u001b[1m1/1\u001b[0m \u001b[32m━━━━━━━━━━━━━━━━━━━━\u001b[0m\u001b[37m\u001b[0m \u001b[1m0s\u001b[0m 314ms/step\n"
     ]
    },
    {
     "name": "stderr",
     "output_type": "stream",
     "text": [
      "WARNING:absl:Compiled the loaded model, but the compiled metrics have yet to be built. `model.compile_metrics` will be empty until you train or evaluate the model.\n"
     ]
    },
    {
     "name": "stdout",
     "output_type": "stream",
     "text": [
      "🔮 Predicted Price for 61st Day: $217.29\n",
      "\n",
      "📊 Testing model for NFLX...\n",
      "\n"
     ]
    },
    {
     "name": "stderr",
     "output_type": "stream",
     "text": [
      "[*********************100%***********************]  1 of 1 completed\n"
     ]
    },
    {
     "name": "stdout",
     "output_type": "stream",
     "text": [
      "📌 Actual Closing Price on 60th Day: $984.69\n",
      "\u001b[1m1/1\u001b[0m \u001b[32m━━━━━━━━━━━━━━━━━━━━\u001b[0m\u001b[37m\u001b[0m \u001b[1m0s\u001b[0m 308ms/step\n"
     ]
    },
    {
     "name": "stderr",
     "output_type": "stream",
     "text": [
      "WARNING:absl:Compiled the loaded model, but the compiled metrics have yet to be built. `model.compile_metrics` will be empty until you train or evaluate the model.\n"
     ]
    },
    {
     "name": "stdout",
     "output_type": "stream",
     "text": [
      "🔮 Predicted Price for 61st Day: $1026.25\n",
      "\n",
      "📊 Testing model for META...\n",
      "\n"
     ]
    },
    {
     "name": "stderr",
     "output_type": "stream",
     "text": [
      "[*********************100%***********************]  1 of 1 completed\n"
     ]
    },
    {
     "name": "stdout",
     "output_type": "stream",
     "text": [
      "📌 Actual Closing Price on 60th Day: $670.78\n",
      "\u001b[1m1/1\u001b[0m \u001b[32m━━━━━━━━━━━━━━━━━━━━\u001b[0m\u001b[37m\u001b[0m \u001b[1m0s\u001b[0m 285ms/step\n",
      "🔮 Predicted Price for 61st Day: $679.98\n",
      "\n"
     ]
    }
   ],
   "source": [
    "\n",
    "from tensorflow.keras.models import load_model\n",
    "\n",
    "tickers = [\"AAPL\", \"GOOGL\", \"MSFT\", \"TSLA\", \"AMZN\", \"NFLX\", \"META\"]\n",
    "\n",
    "for ticker in tickers:\n",
    "    model_path = f\"models/{ticker}_lstm.h5\"\n",
    "    scaler_path = f\"models/{ticker}_scaler.pkl\"\n",
    "\n",
    "    if not os.path.exists(model_path) or not os.path.exists(scaler_path):\n",
    "        print(f\"⚠️ Model or scaler missing for {ticker}. Skipping...\\n\")\n",
    "        continue\n",
    "\n",
    "    print(f\"📊 Testing model for {ticker}...\\n\")\n",
    "\n",
    "    # Load model\n",
    "    model = load_model(model_path)\n",
    "    model.compile(optimizer=\"adam\", loss=\"mean_squared_error\")  # Ensure it's compiled\n",
    "\n",
    "    # Load scaler\n",
    "    scaler = joblib.load(scaler_path)\n",
    "\n",
    "    # Get latest 70 days of data (buffer for missing days)\n",
    "    df = yf.download(ticker, period=\"70d\")\n",
    "\n",
    "    if df.shape[0] < 60:\n",
    "        print(f\"⚠️ Not enough data to test {ticker}. Skipping...\\n\")\n",
    "        continue\n",
    "\n",
    "    # Extract the last 60 days\n",
    "    last_60_days = df[\"Close\"].values[-60:].reshape(-1, 1)\n",
    "    \n",
    "    # Ensure non-NaN values before scaling\n",
    "    if np.isnan(last_60_days).any():\n",
    "        print(f\"⚠️ Data contains NaN values for {ticker}. Skipping...\\n\")\n",
    "        continue\n",
    "\n",
    "    # Get actual closing price of the 60th day\n",
    "    last_day_price = last_60_days[-1][0]  \n",
    "    print(f\"📌 Actual Closing Price on 60th Day: ${last_day_price:.2f}\")\n",
    "\n",
    "    # Scale data\n",
    "    last_60_days_scaled = scaler.transform(last_60_days)\n",
    "\n",
    "    # Prepare input for LSTM\n",
    "    X_test = np.array([last_60_days_scaled])\n",
    "    X_test = X_test.reshape(X_test.shape[0], X_test.shape[1], 1)\n",
    "\n",
    "    # Predict next day's price\n",
    "    predicted_price_scaled = model.predict(X_test)\n",
    "    predicted_price = scaler.inverse_transform(predicted_price_scaled)[0][0]  # Convert back to actual price\n",
    "\n",
    "    print(f\"🔮 Predicted Price for 61st Day: ${predicted_price:.2f}\\n\")\n"
   ]
  }
 ],
 "metadata": {
  "kernelspec": {
   "display_name": "venv",
   "language": "python",
   "name": "python3"
  },
  "language_info": {
   "codemirror_mode": {
    "name": "ipython",
    "version": 3
   },
   "file_extension": ".py",
   "mimetype": "text/x-python",
   "name": "python",
   "nbconvert_exporter": "python",
   "pygments_lexer": "ipython3",
   "version": "3.12.5"
  }
 },
 "nbformat": 4,
 "nbformat_minor": 5
}
