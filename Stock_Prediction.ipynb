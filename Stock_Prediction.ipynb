{
 "cells": [
  {
   "cell_type": "code",
   "execution_count": 3,
   "id": "e7a360c2-a10d-4fde-b46d-fed001cf0c05",
   "metadata": {},
   "outputs": [],
   "source": [
    "import yfinance as yf\n",
    "import pandas as pd\n",
    "import numpy as np\n",
    "import matplotlib.pyplot as plt\n",
    "import seaborn as sns\n",
    "import tensorflow as tf\n",
    "from tensorflow import keras\n",
    "from tensorflow.keras.models import Sequential\n",
    "from tensorflow.keras.layers import LSTM, Dense, Dropout\n"
   ]
  },
  {
   "cell_type": "code",
   "execution_count": 6,
   "id": "3b1af634-6d3d-4d97-ae8a-3f9b48a70e79",
   "metadata": {},
   "outputs": [
    {
     "name": "stderr",
     "output_type": "stream",
     "text": [
      "[*********************100%***********************]  1 of 1 completed"
     ]
    },
    {
     "name": "stdout",
     "output_type": "stream",
     "text": [
      "Price        Date      Close       High        Low       Open     Volume\n",
      "Ticker                  AAPL       AAPL       AAPL       AAPL       AAPL\n",
      "0      2020-01-02  72.716080  72.776606  71.466820  71.721026  135480400\n",
      "1      2020-01-03  72.009125  72.771752  71.783969  71.941336  146322800\n",
      "2      2020-01-06  72.582893  72.621631  70.876060  71.127851  118387200\n",
      "3      2020-01-07  72.241539  72.849216  72.021223  72.592586  108872000\n",
      "4      2020-01-08  73.403633  73.706264  71.943744  71.943744  132079200\n"
     ]
    },
    {
     "name": "stderr",
     "output_type": "stream",
     "text": [
      "\n"
     ]
    }
   ],
   "source": [
    "data = yf.download('AAPL', start='2020-01-01', end='2024-01-01')\n",
    "data.reset_index(inplace=True) \n",
    "print(data.head())\n"
   ]
  },
  {
   "cell_type": "code",
   "execution_count": 5,
   "id": "342b035f-6e5a-41ff-bce6-d901d9d5d546",
   "metadata": {},
   "outputs": [
    {
     "name": "stdout",
     "output_type": "stream",
     "text": [
      "Hellow world \n"
     ]
    }
   ],
   "source": [
    "print(\"Hellow world \")"
   ]
  }
 ],
 "metadata": {
  "kernelspec": {
   "display_name": "venv",
   "language": "python",
   "name": "python3"
  },
  "language_info": {
   "codemirror_mode": {
    "name": "ipython",
    "version": 3
   },
   "file_extension": ".py",
   "mimetype": "text/x-python",
   "name": "python",
   "nbconvert_exporter": "python",
   "pygments_lexer": "ipython3",
   "version": "3.12.5"
  }
 },
 "nbformat": 4,
 "nbformat_minor": 5
}
